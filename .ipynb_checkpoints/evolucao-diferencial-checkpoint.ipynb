{
 "cells": [
  {
   "cell_type": "code",
   "execution_count": 1,
   "metadata": {
    "collapsed": false
   },
   "outputs": [
    {
     "data": {
      "text/plain": [
       "{'divide': 'warn', 'invalid': 'warn', 'over': 'warn', 'under': 'ignore'}"
      ]
     },
     "execution_count": 1,
     "metadata": {},
     "output_type": "execute_result"
    }
   ],
   "source": [
    "import random\n",
    "import struct\n",
    "import numpy as np\n",
    "np.seterr(all='ignore', invalid='ignore')"
   ]
  },
  {
   "cell_type": "code",
   "execution_count": 2,
   "metadata": {
    "collapsed": true
   },
   "outputs": [],
   "source": [
    "def Rastringin(X,Y):\n",
    "        return ( 20+(np.power(X,2)+np.power(Y,2))-(10*(np.cos(2*np.pi*X) + np.cos(2*np.pi*Y)) ) )"
   ]
  },
  {
   "cell_type": "code",
   "execution_count": 3,
   "metadata": {
    "collapsed": false
   },
   "outputs": [],
   "source": [
    "class Chromosome  :\n",
    "    def __init__(self, x1, x2) :\n",
    "        self.x1 = x1\n",
    "        self.x2 = x2\n",
    "        self.fitness = 0\n",
    "        \n",
    "    def __lt__(self, other):\n",
    "        return (self.fitness < other.fitness)\n",
    "\n",
    "    def __eq__(self, other):\n",
    "        return (self.fitness == other.fitness)\n",
    "\n",
    "    def __gt__(self, other):\n",
    "        return(self.fitness > other.fitness)\n",
    "\n",
    "    def __le__(self, other):\n",
    "        return(self.fitness <= other.fitness)\n",
    "    \n",
    "    def __cmp__(self, other) :\n",
    "        if self.fitness < other.fitness:\n",
    "            return -1\n",
    "        elif self.fitness > other.fitness:\n",
    "            return 1\n",
    "        else:\n",
    "            return 0\n",
    "        \n",
    "    def __sub__(self, other):\n",
    "        return Chromosome(self.x1 - other.x1, self.x2 - other.x2)\n",
    "    \n",
    "    def __add__(self,other):\n",
    "        return Chromosome(self.x1 + other.x1, self.x2+other.x2)\n",
    "\n",
    "    def __mul__(self,other):\n",
    "        if(type(other)==float or type(other)==int):\n",
    "            return Chromosome(self.x1 * other , self.x2*other)\n",
    "        return Chromosome(self.x1*other.x1, self.x2*other.x2)\n",
    "        \n",
    "    def __repr__(self) :\n",
    "        return '({},{})'.format(self.x1,self.x2)\n",
    "\n",
    "    def printSolution(self, problem) :\n",
    "        return self.__repr__()\n",
    "                "
   ]
  },
  {
   "cell_type": "code",
   "execution_count": 24,
   "metadata": {
    "collapsed": false
   },
   "outputs": [],
   "source": [
    "class ED:\n",
    "    def __init__(self, popsize=10, iterations=100,beta=0.5,Cr = 0.8 ,problemParams=None):\n",
    "        self.beta = beta\n",
    "        self.popsize = popsize\n",
    "        self.iterations = iterations\n",
    "        self.Cr = Cr\n",
    "        self.poplist = []\n",
    "        self.problemParams = problemParams\n",
    "    \n",
    "    def singlePointCrossover(self, pop_mutada):\n",
    "        list_cNew = []\n",
    "        \n",
    "        for i in range(self.popsize):\n",
    "            Ipop_cor = random.choice(self.poplist)\n",
    "            Ipop_mut = random.choice(pop_mutada)\n",
    "            xi1 = None\n",
    "            xi2 = None\n",
    "            if random.random() >= self.Cr:# Faz o cruzamento\n",
    "                xi1 = Ipop_mut.x1\n",
    "            else:\n",
    "                xi1 = Ipop_cor.x1\n",
    "            if random.random() >= self.Cr:# Faz o cruzamento\n",
    "                xi2 = Ipop_mut.x2\n",
    "            else:\n",
    "                xi2 = Ipop_cor.x2\n",
    "\n",
    "            cNew = Chromosome(xi1,xi2)\n",
    "            cNew.fitness = Rastringin(xi1,xi2)\n",
    "            list_cNew.append(cNew)\n",
    "        return list_cNew\n",
    "\n",
    "        \n",
    "    def makeInitialPopulation(self) :    \n",
    "        for j in range(self.popsize):\n",
    "            self.poplist.append(Chromosome(random.uniform(-5.12,5.12),random.uniform(-5.12,5.12)))\n",
    "            \n",
    "    def assignFitness(self) :\n",
    "        for chrom in self.poplist :\n",
    "                fit = Rastringin(chrom.x1, chrom.x2)\n",
    "                chrom.fitness = fit\n",
    "    \n",
    "    def mutate(self):\n",
    "        x_a = x_b = x_y = None\n",
    "        popCross = []\n",
    "        while(len(popCross)<self.popsize):\n",
    "            \n",
    "            #while(True):\n",
    "                #print(\"aqui\")\n",
    "            x_a = random.choice(self.poplist)\n",
    "            x_b = random.choice(self.poplist)\n",
    "            x_y = random.choice(self.poplist)\n",
    "                #if( not(x_a == x_b) and not(x_b == x_y) ):\n",
    "                    #break\n",
    "            new_chrom = x_a + ((x_b - x_y)*self.beta)\n",
    "            new_chrom.fitness = Rastringin(new_chrom.x1,new_chrom.x2)\n",
    "            popCross.append(new_chrom)\n",
    "        \n",
    "        return popCross\n",
    "\n",
    "\n",
    "    def runDE(self) :\n",
    "        self.makeInitialPopulation() #Populaca inicial\n",
    "        \n",
    "        for i in range(1, self.iterations+1) :       \n",
    "            self.assignFitness()\n",
    "            \n",
    "            pop_mut = self.mutate() # lista de elementos mutados\n",
    "            \n",
    "            pop_cross = self.singlePointCrossover(pop_mut) # lista de filhos através do cross-over\n",
    "\n",
    "            \n",
    "            pop_selecao = []\n",
    "            for j in range(self.popsize):\n",
    "                pop_selecao.append(pop_cross[j])\n",
    "                pop_selecao.append(self.poplist[j]) \n",
    "            \n",
    "            pop_selecao.sort()\n",
    "            \n",
    "            self.poplist = pop_selecao[:self.popsize]\n",
    "        \n",
    "        best_solution = min(self.poplist)\n",
    "        print('({},{}) = {}'.format(best_solution.x1, best_solution.x2, best_solution.fitness))\n",
    "            \n"
   ]
  },
  {
   "cell_type": "code",
   "execution_count": 25,
   "metadata": {
    "collapsed": false
   },
   "outputs": [],
   "source": [
    "a = ED()"
   ]
  },
  {
   "cell_type": "code",
   "execution_count": 26,
   "metadata": {
    "collapsed": false
   },
   "outputs": [
    {
     "name": "stdout",
     "output_type": "stream",
     "text": [
      "(0.9967584342003919,0.9569038988374663) = 2.275643107775501\n"
     ]
    }
   ],
   "source": [
    "a.runDE()"
   ]
  },
  {
   "cell_type": "code",
   "execution_count": null,
   "metadata": {
    "collapsed": false
   },
   "outputs": [],
   "source": [
    "apt-get update"
   ]
  },
  {
   "cell_type": "code",
   "execution_count": null,
   "metadata": {
    "collapsed": false
   },
   "outputs": [],
   "source": []
  },
  {
   "cell_type": "code",
   "execution_count": null,
   "metadata": {
    "collapsed": true
   },
   "outputs": [],
   "source": []
  },
  {
   "cell_type": "code",
   "execution_count": null,
   "metadata": {
    "collapsed": true
   },
   "outputs": [],
   "source": []
  }
 ],
 "metadata": {
  "anaconda-cloud": {},
  "kernelspec": {
   "display_name": "Python [conda root]",
   "language": "python",
   "name": "conda-root-py"
  },
  "language_info": {
   "codemirror_mode": {
    "name": "ipython",
    "version": 3
   },
   "file_extension": ".py",
   "mimetype": "text/x-python",
   "name": "python",
   "nbconvert_exporter": "python",
   "pygments_lexer": "ipython3",
   "version": "3.5.2"
  }
 },
 "nbformat": 4,
 "nbformat_minor": 1
}
