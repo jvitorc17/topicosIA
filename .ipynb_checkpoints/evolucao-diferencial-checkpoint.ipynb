{
 "cells": [
  {
   "cell_type": "markdown",
   "metadata": {},
   "source": [
    "## <center>Tópicos III - Evolução Diferencial</center><br>\n",
    "### Encontrando um Mínimo Global na Função de Rastringin usando Evolução Diferencial\n",
    "\n",
    "Prof. Me. Carlos Igor Ramos Bandeira<br/>\n",
    "João Vitor Chaves de Oliveira"
   ]
  },
  {
   "cell_type": "markdown",
   "metadata": {},
   "source": [
    "### 1. Introdução"
   ]
  },
  {
   "cell_type": "markdown",
   "metadata": {},
   "source": [
    "<p style=\"text-align: justify;\">Meta-heurísticas têm sido frequentemente empregadas na resolução de problemas de otimização.  Em particular, pode-se destacar a Evolução Diferencial (DE), que vem sendo aplicada com sucesso em situações onde o espaço de busca é contínuo.  Apesar das vantagens dessas técnicas, elas precisam de adequações para tratar as restrições, que comumente limitam o espaço de busca em problemas reais de otimização. Nesse trabalho, usaremos algoritmos genéticos para encontrar um mínimo global na função de Rastringin. A função de Rastrigin é uma função não convexa usada como um problema de teste de desempenho para algoritmos de otimização. É um exemplo típico de função multimodal não-linear. Foi proposto pela primeira vez por Rastrigin como uma função bidimensional. Encontrar o mínimo desta função é um problema bastante difícil devido ao seu grande espaço de busca e ao grande número de mínimos locais.</p> </br> A função de Rastringin se configura da seguinte maneira:</p>\n",
    "\n",
    "<b>$f(x_1,x_2) = 20 + x_{1}^2 + x_{2}^2 - 10[cos(2\\pi x_1)+cos(2\\pi x_2)]$, onde $x_i \\in [-5.12;+5.12], i={1,2}$.</b><br> \n",
    "<p style=\"text-align: justify;\">Esta função possui um mínimo global em ${x_1,x_2}= {0,0}$, para o qual $f(x_1,x_2)=0$.<br>\n",
    "Antes de começarmos a busca por um mínimo global nesta função, é essencial estarmos familiarizados com algumas terminologias básicas que serão usadas ao longo deste trabalho e apresentadas na Seção seguinte.</p>"
   ]
  },
  {
   "cell_type": "markdown",
   "metadata": {},
   "source": [
    "### 2. Fundamentação Teórica"
   ]
  },
  {
   "cell_type": "markdown",
   "metadata": {},
   "source": [
    "Nesta Seção, apresentaremos algumas definições importantes ao entendimento deste trabalho.<br>"
   ]
  },
  {
   "cell_type": "markdown",
   "metadata": {},
   "source": [
    "<b>2.1. Mutação</b><br> \n",
    "<p style=\"text-align: justify;\">No operador mutação cada indivíduo é modificado através da adição da diferença vetorial ponderada entre dois indivíduos aleatórios da população a um terceiro indivíduo. São gerados então os vetores doadores ou modificados. </p>\n",
    "O operador de mutação é definido por:\n",
    "\n",
    "<center> $u = x_1 + \\beta (x_2 - x_3)$ </center>\n",
    "\n",
    "\n",
    "<p style=\"text-align: justify;\">onde $u$ é o novo indivíduo gerado através da mutação, $x_1$ é o indivíduo usado como base para mutação. Dizemos que $x_1$ sofre uma perturbação. Os outros dois vetores $x_2 , x_3$ são escolhidos para se fazer a mutação. O valor $\\beta$ é um fator que determina a ponderação da diferença de $x_2$ e $x_3$. Vale ressaltar que $x_1,x_2,x_3$ são escolhidos de forma aleatória com a restrição de que $x_1 \\neq x_2 \\neq x_3$.</p>\n"
   ]
  },
  {
   "cell_type": "markdown",
   "metadata": {},
   "source": [
    "<b>2.2. Cruzamento</b><br> \n",
    "\n",
    "<p style=\"text-align: justify;\">Cruzamento, ou $\\textit{crossover}$ em inglês, é introduzido na população para aumentar a diversidade dos indivíduos que sofreram a mutação. Assim, os membros da população e os vetores mutantes trocam atributos para formar o vetor modificado.</p>"
   ]
  },
  {
   "cell_type": "markdown",
   "metadata": {},
   "source": [
    "<b>2.3. Seleção</b><br> \n",
    "\n",
    "<p style=\"text-align: justify;\">O operador seleção tem como finalidade selecionar os melhores indivíduos. Este\n",
    "operador visa simplesmente escolher os indivíduos com melhores características que serão preservados para a próxima geração. Se a aptidão determinada através do cálculo da função objetivo do indivíduo $i$ da população corrente é maior do que a aptidão do indivíduo $i$ da população de cruzamento, esse indivíduo passa para próxima geração com os melhores entre as duas populações. Note que no nosso caso, indivíduos com maior aptidão são aqueles que tem o menor valor de fitness.</p>\n"
   ]
  },
  {
   "cell_type": "markdown",
   "metadata": {},
   "source": [
    "### 3. Metodologia\n",
    "\n",
    "Nesta Seção, mostraremos os passos algorítmicos para se encontrar os resultados desejados."
   ]
  },
  {
   "cell_type": "code",
   "execution_count": 38,
   "metadata": {
    "collapsed": false
   },
   "outputs": [
    {
     "data": {
      "text/plain": [
       "{'divide': 'ignore', 'invalid': 'ignore', 'over': 'ignore', 'under': 'ignore'}"
      ]
     },
     "execution_count": 38,
     "metadata": {},
     "output_type": "execute_result"
    }
   ],
   "source": [
    "import random\n",
    "import struct\n",
    "import numpy as np\n",
    "np.seterr(all='ignore', invalid='ignore')"
   ]
  },
  {
   "cell_type": "code",
   "execution_count": 39,
   "metadata": {
    "collapsed": true
   },
   "outputs": [],
   "source": [
    "def Rastringin(X,Y):\n",
    "        return ( 20+(np.power(X,2)+np.power(Y,2))-(10*(np.cos(2*np.pi*X) + np.cos(2*np.pi*Y)) ) )"
   ]
  },
  {
   "cell_type": "code",
   "execution_count": 40,
   "metadata": {
    "collapsed": false
   },
   "outputs": [],
   "source": [
    "class Chromosome  :\n",
    "    def __init__(self, x1, x2) :\n",
    "        self.x1 = x1\n",
    "        self.x2 = x2\n",
    "        self.fitness = 0\n",
    "        \n",
    "    def __lt__(self, other):\n",
    "        return (self.fitness < other.fitness)\n",
    "\n",
    "    def __eq__(self, other):\n",
    "        return (self.fitness == other.fitness)\n",
    "\n",
    "    def __gt__(self, other):\n",
    "        return(self.fitness > other.fitness)\n",
    "\n",
    "    def __le__(self, other):\n",
    "        return(self.fitness <= other.fitness)\n",
    "    \n",
    "    def __cmp__(self, other) :\n",
    "        if self.fitness < other.fitness:\n",
    "            return -1\n",
    "        elif self.fitness > other.fitness:\n",
    "            return 1\n",
    "        else:\n",
    "            return 0\n",
    "        \n",
    "    def __sub__(self, other):\n",
    "        return Chromosome(self.x1 - other.x1, self.x2 - other.x2)\n",
    "    \n",
    "    def __add__(self,other):\n",
    "        return Chromosome(self.x1 + other.x1, self.x2+other.x2)\n",
    "\n",
    "    def __mul__(self,other):\n",
    "        if(type(other)==float or type(other)==int):\n",
    "            return Chromosome(self.x1 * other , self.x2*other)\n",
    "        return Chromosome(self.x1*other.x1, self.x2*other.x2)\n",
    "        \n",
    "    def __repr__(self) :\n",
    "        return '({},{})'.format(self.x1,self.x2)\n",
    "\n",
    "    def printSolution(self, problem) :\n",
    "        return self.__repr__()\n",
    "                "
   ]
  },
  {
   "cell_type": "code",
   "execution_count": null,
   "metadata": {
    "collapsed": false
   },
   "outputs": [],
   "source": [
    "class ED:\n",
    "    def __init__(self, popsize=1000, iterations=7,beta=0.5,Cr = 0.8 ,problemParams=None):\n",
    "        self.beta = beta\n",
    "        self.popsize = popsize\n",
    "        self.iterations = iterations\n",
    "        self.Cr = Cr\n",
    "        self.poplist = []\n",
    "        self.problemParams = problemParams\n",
    "    \n",
    "    def singlePointCrossover(self, pop_mutada):\n",
    "        list_cNew = []\n",
    "        \n",
    "        for i in range(self.popsize):\n",
    "            Ipop_cor = random.choice(self.poplist)\n",
    "            Ipop_mut = random.choice(pop_mutada)\n",
    "            xi1 = None\n",
    "            xi2 = None\n",
    "            if random.random() >= self.Cr:\n",
    "                xi1 = Ipop_mut.x1\n",
    "            else:\n",
    "                xi1 = Ipop_cor.x1\n",
    "            if random.random() >= self.Cr:\n",
    "                xi2 = Ipop_mut.x2\n",
    "            else:\n",
    "                xi2 = Ipop_cor.x2\n",
    "\n",
    "            cNew = Chromosome(xi1,xi2)\n",
    "            cNew.fitness = Rastringin(xi1,xi2)\n",
    "            list_cNew.append(cNew)\n",
    "        return list_cNew\n",
    "\n",
    "        \n",
    "    def makeInitialPopulation(self) :    \n",
    "        for j in range(self.popsize):\n",
    "            self.poplist.append(Chromosome(random.uniform(-5.12,5.12),random.uniform(-5.12,5.12)))\n",
    "            \n",
    "    def assignFitness(self) :\n",
    "        for chrom in self.poplist :\n",
    "                fit = Rastringin(chrom.x1, chrom.x2)\n",
    "                chrom.fitness = fit\n",
    "    \n",
    "    def mutate(self):\n",
    "        x_a = x_b = x_y = None\n",
    "        popCross = []\n",
    "        while(len(popCross)<self.popsize):\n",
    "            \n",
    "            while(True):\n",
    "                x_a = random.choice(self.poplist)\n",
    "                x_b = random.choice(self.poplist)\n",
    "                x_y = random.choice(self.poplist)\n",
    "                if( not(x_a == x_b) and not(x_b == x_y) ):\n",
    "                    break\n",
    "            new_chrom = x_a + ((x_b - x_y)*self.beta)\n",
    "            new_chrom.fitness = Rastringin(new_chrom.x1,new_chrom.x2)\n",
    "            popCross.append(new_chrom)\n",
    "        \n",
    "        return popCross\n",
    "\n",
    "    def runDE(self):\n",
    "        melhoresResultados = []\n",
    "        self.makeInitialPopulation() #Populaca inicial\n",
    "        \n",
    "        for i in range(1, self.iterations+1) :       \n",
    "            self.assignFitness()\n",
    "            \n",
    "            pop_mut = self.mutate() # lista de elementos mutados\n",
    "            \n",
    "            pop_cross = self.singlePointCrossover(pop_mut) # lista de filhos através do cross-over\n",
    "\n",
    "            pop_selecao = []\n",
    "            for j in range(self.popsize):\n",
    "                pop_selecao.append(pop_cross[j])\n",
    "                pop_selecao.append(self.poplist[j]) \n",
    "            \n",
    "            pop_selecao.sort()\n",
    "            melhoresResultados.append(pop_selecao[0].fitness)\n",
    "            self.poplist = pop_selecao[:self.popsize]\n",
    "            \n",
    "        best_solution = min(self.poplist)\n",
    "        print('({},{}) = {}'.format(best_solution.x1, best_solution.x2, best_solution.fitness))\n",
    "        print(best_solution.fitness<1 )\n",
    "        return melhoresResultados"
   ]
  },
  {
   "cell_type": "code",
   "execution_count": null,
   "metadata": {
    "collapsed": true
   },
   "outputs": [],
   "source": [
    "import matplotlib.pyplot as plt\n",
    "%matplotlib inline\n",
    "\n",
    "def plotar(X):\n",
    "    plt.plot(X)\n",
    "    plt.title(\"Gráfico da função de aptidão do melhor individuo\")\n",
    "    plt.grid(True)\n",
    "    plt.xlabel(\"Iterações\")\n",
    "    plt.ylabel(\"Fitness/Aptidão\")\n",
    "    plt.show()"
   ]
  },
  {
   "cell_type": "code",
   "execution_count": null,
   "metadata": {
    "collapsed": false
   },
   "outputs": [],
   "source": [
    "a = ED()"
   ]
  },
  {
   "cell_type": "code",
   "execution_count": null,
   "metadata": {
    "collapsed": false
   },
   "outputs": [],
   "source": [
    "for i in range(10):\n",
    "    resultado = a.runDE()"
   ]
  },
  {
   "cell_type": "code",
   "execution_count": 83,
   "metadata": {
    "collapsed": false
   },
   "outputs": [
    {
     "data": {
      "image/png": "[encoded data removed]",
      "text/plain": [
       "<matplotlib.figure.Figure at 0x7f03d55cf9b0>"
      ]
     },
     "metadata": {},
     "output_type": "display_data"
    }
   ],
   "source": [
    "plotar(resultado)"
   ]
  },
  {
   "cell_type": "markdown",
   "metadata": {},
   "source": [
    "#### Implementação extra"
   ]
  },
  {
   "cell_type": "markdown",
   "metadata": {},
   "source": [
    "O Scipy, possui uma biblioteca que implementa a técnica de evolução diferencial. Basta passar bomo parâmentros o domínio de $x_1, x_2 ... x_n$ e a função objetivo. No nosso caso, lidamos com apenas duas variáveis, e a função objetivo é a função de Rastringin."
   ]
  },
  {
   "cell_type": "code",
   "execution_count": 66,
   "metadata": {
    "collapsed": false
   },
   "outputs": [
    {
     "name": "stdout",
     "output_type": "stream",
     "text": [
      "x1 = 1.0486439805390545e-09 \n",
      "x2 = 2.75980482911109e-09 \n",
      "Resultado = 0.0 \n"
     ]
    }
   ],
   "source": [
    "from scipy.optimize import differential_evolution\n",
    "\n",
    "def RastringinObj(X):\n",
    "        return ( 20+(np.power(X[0],2)+np.power(X[1],2))-(10*(np.cos(2*np.pi*X[0]) + np.cos(2*np.pi*X[1])) ) )\n",
    "\n",
    "bounds = [(-5.12,5.12), (-5.12, 5.12)]\n",
    "result = differential_evolution(RastringinObj, bounds)\n",
    "print(\"x1 = {} \\nx2 = {} \\nResultado = {} \".format(result.x[0],result.x[1],result.fun))\n"
   ]
  },
  {
   "cell_type": "markdown",
   "metadata": {
    "collapsed": false
   },
   "source": [
    "### 5. Conclusão"
   ]
  },
  {
   "cell_type": "markdown",
   "metadata": {
    "collapsed": true
   },
   "source": [
    "### 6. Referências"
   ]
  },
  {
   "cell_type": "markdown",
   "metadata": {
    "collapsed": true
   },
   "source": [
    "<b>Template tomado como base no trabalho - Universidade de São Francisco:</b> https://www.cs.usfca.edu/~brooks/F06classes/cs662/assignments/code/ga.py </b>\n",
    "\n",
    "<b>O algoritmo evolutivo Differential Evolution: http://www.computacaointeligente.com.br/algoritmos/o-algoritmo-evolutivo-differential-evolution/ </b>\n",
    "\n",
    "<b>Biblioteca difference evolution - scipy: https://docs.scipy.org/doc/scipy-0.15.1/reference/generated/scipy.optimize.differential_evolution.html </b>\n",
    "\n",
    "\n",
    "<b>Engelbrecht, A. P. (2007). Computational intelligence: an introduction. John Wiley &\n",
    "Sons.</b>"
   ]
  },
  {
   "cell_type": "code",
   "execution_count": null,
   "metadata": {
    "collapsed": true
   },
   "outputs": [],
   "source": []
  }
 ],
 "metadata": {
  "anaconda-cloud": {},
  "kernelspec": {
   "display_name": "Python [conda root]",
   "language": "python",
   "name": "conda-root-py"
  },
  "language_info": {
   "codemirror_mode": {
    "name": "ipython",
    "version": 3
   },
   "file_extension": ".py",
   "mimetype": "text/x-python",
   "name": "python",
   "nbconvert_exporter": "python",
   "pygments_lexer": "ipython3",
   "version": "3.5.2"
  }
 },
 "nbformat": 4,
 "nbformat_minor": 1
}
