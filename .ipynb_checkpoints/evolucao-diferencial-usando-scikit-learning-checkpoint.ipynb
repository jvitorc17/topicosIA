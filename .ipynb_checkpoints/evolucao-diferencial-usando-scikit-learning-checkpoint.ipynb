{
 "cells": [
  {
   "cell_type": "code",
   "execution_count": 1,
   "metadata": {
    "collapsed": false
   },
   "outputs": [
    {
     "name": "stdout",
     "output_type": "stream",
     "text": [
      "x1 = -5.379297363106162e-10 \n",
      "x2 = 2.0884522200503854e-09 \n",
      "Resultado = 0.0 \n"
     ]
    }
   ],
   "source": [
    "from scipy.optimize import differential_evolution\n",
    "import numpy as np\n",
    "\n",
    "def Rastringin(X):\n",
    "        return ( 20+(np.power(X[0],2)+np.power(X[1],2))-(10*(np.cos(2*np.pi*X[0]) + np.cos(2*np.pi*X[1])) ) )\n",
    "bounds = [(-5.12,5.12), (-5.12, 5.12)]\n",
    "result = differential_evolution(Rastringin, bounds)\n",
    "\n",
    "print(\"x1 = {} \\nx2 = {} \\nResultado = {} \".format(result.x[0],result.x[1],result.fun))\n"
   ]
  },
  {
   "cell_type": "code",
   "execution_count": null,
   "metadata": {
    "collapsed": true
   },
   "outputs": [],
   "source": []
  }
 ],
 "metadata": {
  "anaconda-cloud": {},
  "kernelspec": {
   "display_name": "Python [conda root]",
   "language": "python",
   "name": "conda-root-py"
  },
  "language_info": {
   "codemirror_mode": {
    "name": "ipython",
    "version": 3
   },
   "file_extension": ".py",
   "mimetype": "text/x-python",
   "name": "python",
   "nbconvert_exporter": "python",
   "pygments_lexer": "ipython3",
   "version": "3.5.2"
  }
 },
 "nbformat": 4,
 "nbformat_minor": 1
}
